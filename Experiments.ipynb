{
 "cells": [
  {
   "attachments": {},
   "cell_type": "markdown",
   "metadata": {},
   "source": [
    "<h2 align='center'> Deep Face Experiments </h2>"
   ]
  },
  {
   "cell_type": "code",
   "execution_count": 142,
   "metadata": {},
   "outputs": [],
   "source": [
    "from deepface import DeepFace\n",
    "import cv2\n",
    "import matplotlib.pyplot as plt"
   ]
  },
  {
   "attachments": {},
   "cell_type": "markdown",
   "metadata": {},
   "source": [
    "<h3> Verify Face (Recognition)</h3>"
   ]
  },
  {
   "cell_type": "code",
   "execution_count": 62,
   "metadata": {},
   "outputs": [],
   "source": [
    "results=DeepFace.verify(img1_path='img-1.jpg',img2_path='img-2.jpg')"
   ]
  },
  {
   "attachments": {},
   "cell_type": "markdown",
   "metadata": {},
   "source": [
    "<h3> Draw Bounding Box </h3>"
   ]
  },
  {
   "cell_type": "code",
   "execution_count": 63,
   "metadata": {},
   "outputs": [
    {
     "name": "stdout",
     "output_type": "stream",
     "text": [
      "Coordinates of interest: {'x': 1553, 'y': 335, 'w': 175, 'h': 175}\n"
     ]
    }
   ],
   "source": [
    "coords=results['facial_areas']['img2']\n",
    "print(f'Coordinates of interest: {coords}')\n",
    "img=cv2.imread('img-2.jpg')\n",
    "cv2.rectangle(img,(coords['x'],coords['y']),(coords['x']+coords['w'],coords['y']+coords['h']),(0,0,255),5)\n",
    "cv2.imshow('output',cv2.resize(img,(600,600)))\n",
    "cv2.waitKey(0)\n",
    "cv2.destroyAllWindows()"
   ]
  },
  {
   "attachments": {},
   "cell_type": "markdown",
   "metadata": {},
   "source": [
    "<h3> Streaming Code </h3>"
   ]
  },
  {
   "cell_type": "code",
   "execution_count": 64,
   "metadata": {},
   "outputs": [
    {
     "name": "stdout",
     "output_type": "stream",
     "text": [
      "facial recognition model VGG-Face is just built\n",
      "age_model_weights.h5 will be downloaded...\n"
     ]
    },
    {
     "name": "stderr",
     "output_type": "stream",
     "text": [
      "Downloading...\n",
      "From: https://github.com/serengil/deepface_models/releases/download/v1.0/age_model_weights.h5\n",
      "To: C:\\Users\\FM-PC-LT-233\\.deepface\\weights\\age_model_weights.h5\n",
      "100%|██████████| 539M/539M [02:16<00:00, 3.95MB/s] \n"
     ]
    },
    {
     "name": "stdout",
     "output_type": "stream",
     "text": [
      "Age model is just built\n",
      "gender_model_weights.h5 will be downloaded...\n"
     ]
    },
    {
     "name": "stderr",
     "output_type": "stream",
     "text": [
      "Downloading...\n",
      "From: https://github.com/serengil/deepface_models/releases/download/v1.0/gender_model_weights.h5\n",
      "To: C:\\Users\\FM-PC-LT-233\\.deepface\\weights\\gender_model_weights.h5\n",
      "100%|██████████| 537M/537M [01:51<00:00, 4.80MB/s] \n"
     ]
    },
    {
     "name": "stdout",
     "output_type": "stream",
     "text": [
      "Gender model is just built\n",
      "facial_expression_model_weights.h5 will be downloaded...\n"
     ]
    },
    {
     "name": "stderr",
     "output_type": "stream",
     "text": [
      "Downloading...\n",
      "From: https://github.com/serengil/deepface_models/releases/download/v1.0/facial_expression_model_weights.h5\n",
      "To: C:\\Users\\FM-PC-LT-233\\.deepface\\weights\\facial_expression_model_weights.h5\n",
      "100%|██████████| 5.98M/5.98M [00:01<00:00, 3.74MB/s]\n"
     ]
    },
    {
     "name": "stdout",
     "output_type": "stream",
     "text": [
      "Emotion model is just built\n"
     ]
    },
    {
     "name": "stderr",
     "output_type": "stream",
     "text": [
      "Finding representations: 100%|██████████| 3/3 [00:01<00:00,  2.35it/s]\n"
     ]
    },
    {
     "name": "stdout",
     "output_type": "stream",
     "text": [
      "Representations stored in .//representations_vgg_face.pkl file.Please delete this file when you add new identities in your database.\n",
      "find function lasts  1.442248821258545  seconds\n",
      "race_model_single_batch.h5 will be downloaded...\n"
     ]
    },
    {
     "name": "stderr",
     "output_type": "stream",
     "text": [
      "Downloading...\n",
      "From: https://github.com/serengil/deepface_models/releases/download/v1.0/race_model_single_batch.h5\n",
      "To: C:\\Users\\FM-PC-LT-233\\.deepface\\weights\\race_model_single_batch.h5\n",
      "100%|██████████| 537M/537M [01:46<00:00, 5.04MB/s] \n"
     ]
    }
   ],
   "source": [
    "DeepFace.stream(db_path = \"./\")\n"
   ]
  },
  {
   "attachments": {},
   "cell_type": "markdown",
   "metadata": {},
   "source": [
    "<h3> Custom Face Recognition Model </h3>"
   ]
  },
  {
   "cell_type": "code",
   "execution_count": 147,
   "metadata": {},
   "outputs": [],
   "source": [
    "cap = cv2.VideoCapture(0)\n",
    "while cap.isOpened():\n",
    "    ret, frame = cap.read()\n",
    "    \n",
    "    try:\n",
    "        results = DeepFace.find(frame, db_path='Database')\n",
    "        # Iterate over each result\n",
    "        for result in results:\n",
    "            result = result.drop_duplicates(subset=['source_x', 'source_y', 'source_w', 'source_h'])\n",
    "            result=result.loc[result['VGG-Face_cosine']<=0.35]\n",
    "            # Extract coordinates and names\n",
    "            coordinates = result[['source_x', 'source_y', 'source_w', 'source_h']].values.tolist()\n",
    "            names = [(i.replace('\\\\', '/')).split('/')[1] for i in result['identity'].tolist()]\n",
    "            \n",
    "            # Draw bounding boxes and names on the frame\n",
    "            for (x, y, w, h), name in zip(coordinates, names):\n",
    "                cv2.rectangle(frame, (x, y), (x + w, y + h), (255, 0, 0), 2)\n",
    "                cv2.rectangle(frame, (x, y - 20), (x + w, y), (255, 0, 0), -1)\n",
    "                cv2.putText(frame, name, (x, y - 5), cv2.FONT_HERSHEY_SIMPLEX, 0.40, (255, 255, 255), 1)\n",
    "        \n",
    "    except:\n",
    "        pass\n",
    "    \n",
    "    cv2.imshow('output', frame)\n",
    "    \n",
    "    if cv2.waitKey(1) & 0xFF == ord('q'):\n",
    "        break\n",
    "\n",
    "cap.release()\n",
    "cv2.destroyAllWindows()\n"
   ]
  },
  {
   "cell_type": "code",
   "execution_count": null,
   "metadata": {},
   "outputs": [],
   "source": []
  }
 ],
 "metadata": {
  "kernelspec": {
   "display_name": "Face-Exp",
   "language": "python",
   "name": "python3"
  },
  "language_info": {
   "codemirror_mode": {
    "name": "ipython",
    "version": 3
   },
   "file_extension": ".py",
   "mimetype": "text/x-python",
   "name": "python",
   "nbconvert_exporter": "python",
   "pygments_lexer": "ipython3",
   "version": "3.11.3"
  },
  "orig_nbformat": 4
 },
 "nbformat": 4,
 "nbformat_minor": 2
}
